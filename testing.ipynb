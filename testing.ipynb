{
 "cells": [
  {
   "cell_type": "code",
   "execution_count": 4,
   "metadata": {
    "collapsed": true
   },
   "outputs": [
    {
     "ename": "TclError",
     "evalue": "image \"pyimage3\" doesn't exist",
     "output_type": "error",
     "traceback": [
      "\u001B[1;31m---------------------------------------------------------------------------\u001B[0m",
      "\u001B[1;31mTclError\u001B[0m                                  Traceback (most recent call last)",
      "Cell \u001B[1;32mIn[4], line 14\u001B[0m\n\u001B[0;32m     11\u001B[0m canvas\u001B[38;5;241m.\u001B[39mpack()\n\u001B[0;32m     13\u001B[0m img1 \u001B[38;5;241m=\u001B[39m ImageTk\u001B[38;5;241m.\u001B[39mPhotoImage(Image\u001B[38;5;241m.\u001B[39mopen(\u001B[38;5;124mr\u001B[39m\u001B[38;5;124m\"\u001B[39m\u001B[38;5;124mC:\u001B[39m\u001B[38;5;124m\\\u001B[39m\u001B[38;5;124mUsers\u001B[39m\u001B[38;5;124m\\\u001B[39m\u001B[38;5;124makds.pc\u001B[39m\u001B[38;5;124m\\\u001B[39m\u001B[38;5;124mDocuments\u001B[39m\u001B[38;5;124m\\\u001B[39m\u001B[38;5;124mMEGAsync\u001B[39m\u001B[38;5;124m\\\u001B[39m\u001B[38;5;124mPython_projects\u001B[39m\u001B[38;5;124m\\\u001B[39m\u001B[38;5;124mPycharm-Projects-2\u001B[39m\u001B[38;5;124m\\\u001B[39m\u001B[38;5;124mflash-card-project-start\u001B[39m\u001B[38;5;124m\\\u001B[39m\u001B[38;5;124mimages\u001B[39m\u001B[38;5;124m\\\u001B[39m\u001B[38;5;124mcard_back.png\u001B[39m\u001B[38;5;124m\"\u001B[39m))\n\u001B[1;32m---> 14\u001B[0m \u001B[43mcanvas\u001B[49m\u001B[38;5;241;43m.\u001B[39;49m\u001B[43mcreate_image\u001B[49m\u001B[43m(\u001B[49m\u001B[38;5;241;43m0\u001B[39;49m\u001B[43m,\u001B[49m\u001B[43m \u001B[49m\u001B[38;5;241;43m0\u001B[39;49m\u001B[43m,\u001B[49m\u001B[43m \u001B[49m\u001B[43manchor\u001B[49m\u001B[38;5;241;43m=\u001B[39;49m\u001B[43mNW\u001B[49m\u001B[43m,\u001B[49m\u001B[43m \u001B[49m\u001B[43mimage\u001B[49m\u001B[38;5;241;43m=\u001B[39;49m\u001B[43mimg1\u001B[49m\u001B[43m)\u001B[49m\n\u001B[0;32m     16\u001B[0m img2 \u001B[38;5;241m=\u001B[39m ImageTk\u001B[38;5;241m.\u001B[39mPhotoImage(Image\u001B[38;5;241m.\u001B[39mopen(\u001B[38;5;124mr\u001B[39m\u001B[38;5;124m\"\u001B[39m\u001B[38;5;124mC:\u001B[39m\u001B[38;5;124m\\\u001B[39m\u001B[38;5;124mUsers\u001B[39m\u001B[38;5;124m\\\u001B[39m\u001B[38;5;124makds.pc\u001B[39m\u001B[38;5;124m\\\u001B[39m\u001B[38;5;124mDocuments\u001B[39m\u001B[38;5;124m\\\u001B[39m\u001B[38;5;124mMEGAsync\u001B[39m\u001B[38;5;124m\\\u001B[39m\u001B[38;5;124mPython_projects\u001B[39m\u001B[38;5;124m\\\u001B[39m\u001B[38;5;124mPycharm-Projects-2\u001B[39m\u001B[38;5;124m\\\u001B[39m\u001B[38;5;124mflash-card-project-start\u001B[39m\u001B[38;5;124m\\\u001B[39m\u001B[38;5;124mimages\u001B[39m\u001B[38;5;124m\\\u001B[39m\u001B[38;5;124mcard_front.png\u001B[39m\u001B[38;5;124m\"\u001B[39m))\n\u001B[0;32m     17\u001B[0m canvas\u001B[38;5;241m.\u001B[39mcreate_image(\u001B[38;5;241m0\u001B[39m, \u001B[38;5;241m0\u001B[39m, anchor\u001B[38;5;241m=\u001B[39mNW, image\u001B[38;5;241m=\u001B[39mimg2)\n",
      "File \u001B[1;32m~\\AppData\\Local\\Programs\\Python\\Python310\\lib\\tkinter\\__init__.py:2819\u001B[0m, in \u001B[0;36mCanvas.create_image\u001B[1;34m(self, *args, **kw)\u001B[0m\n\u001B[0;32m   2817\u001B[0m \u001B[38;5;28;01mdef\u001B[39;00m \u001B[38;5;21mcreate_image\u001B[39m(\u001B[38;5;28mself\u001B[39m, \u001B[38;5;241m*\u001B[39margs, \u001B[38;5;241m*\u001B[39m\u001B[38;5;241m*\u001B[39mkw):\n\u001B[0;32m   2818\u001B[0m \u001B[38;5;250m    \u001B[39m\u001B[38;5;124;03m\"\"\"Create image item with coordinates x1,y1.\"\"\"\u001B[39;00m\n\u001B[1;32m-> 2819\u001B[0m     \u001B[38;5;28;01mreturn\u001B[39;00m \u001B[38;5;28;43mself\u001B[39;49m\u001B[38;5;241;43m.\u001B[39;49m\u001B[43m_create\u001B[49m\u001B[43m(\u001B[49m\u001B[38;5;124;43m'\u001B[39;49m\u001B[38;5;124;43mimage\u001B[39;49m\u001B[38;5;124;43m'\u001B[39;49m\u001B[43m,\u001B[49m\u001B[43m \u001B[49m\u001B[43margs\u001B[49m\u001B[43m,\u001B[49m\u001B[43m \u001B[49m\u001B[43mkw\u001B[49m\u001B[43m)\u001B[49m\n",
      "File \u001B[1;32m~\\AppData\\Local\\Programs\\Python\\Python310\\lib\\tkinter\\__init__.py:2805\u001B[0m, in \u001B[0;36mCanvas._create\u001B[1;34m(self, itemType, args, kw)\u001B[0m\n\u001B[0;32m   2803\u001B[0m \u001B[38;5;28;01melse\u001B[39;00m:\n\u001B[0;32m   2804\u001B[0m     cnf \u001B[38;5;241m=\u001B[39m {}\n\u001B[1;32m-> 2805\u001B[0m \u001B[38;5;28;01mreturn\u001B[39;00m \u001B[38;5;28mself\u001B[39m\u001B[38;5;241m.\u001B[39mtk\u001B[38;5;241m.\u001B[39mgetint(\u001B[38;5;28;43mself\u001B[39;49m\u001B[38;5;241;43m.\u001B[39;49m\u001B[43mtk\u001B[49m\u001B[38;5;241;43m.\u001B[39;49m\u001B[43mcall\u001B[49m\u001B[43m(\u001B[49m\n\u001B[0;32m   2806\u001B[0m \u001B[43m    \u001B[49m\u001B[38;5;28;43mself\u001B[39;49m\u001B[38;5;241;43m.\u001B[39;49m\u001B[43m_w\u001B[49m\u001B[43m,\u001B[49m\u001B[43m \u001B[49m\u001B[38;5;124;43m'\u001B[39;49m\u001B[38;5;124;43mcreate\u001B[39;49m\u001B[38;5;124;43m'\u001B[39;49m\u001B[43m,\u001B[49m\u001B[43m \u001B[49m\u001B[43mitemType\u001B[49m\u001B[43m,\u001B[49m\n\u001B[0;32m   2807\u001B[0m \u001B[43m    \u001B[49m\u001B[38;5;241;43m*\u001B[39;49m\u001B[43m(\u001B[49m\u001B[43margs\u001B[49m\u001B[43m \u001B[49m\u001B[38;5;241;43m+\u001B[39;49m\u001B[43m \u001B[49m\u001B[38;5;28;43mself\u001B[39;49m\u001B[38;5;241;43m.\u001B[39;49m\u001B[43m_options\u001B[49m\u001B[43m(\u001B[49m\u001B[43mcnf\u001B[49m\u001B[43m,\u001B[49m\u001B[43m \u001B[49m\u001B[43mkw\u001B[49m\u001B[43m)\u001B[49m\u001B[43m)\u001B[49m\u001B[43m)\u001B[49m)\n",
      "\u001B[1;31mTclError\u001B[0m: image \"pyimage3\" doesn't exist"
     ]
    }
   ],
   "source": [
    "from tkinter import *\n",
    "from PIL import ImageTk, Image\n",
    "\n",
    "def show_next_image():\n",
    "    # Load your next image here\n",
    "    pass\n",
    "\n",
    "root = Tk()\n",
    "\n",
    "canvas = Canvas(root, width=300, height=300)\n",
    "canvas.pack()\n",
    "\n",
    "img1 = ImageTk.PhotoImage(Image.open(r\"C:\\Users\\akds.pc\\Documents\\MEGAsync\\Python_projects\\Pycharm-Projects-2\\flash-card-project-start\\images\\card_back.png\"))\n",
    "canvas.create_image(0, 0, anchor=NW, image=img1)\n",
    "\n",
    "img2 = ImageTk.PhotoImage(Image.open(r\"C:\\Users\\akds.pc\\Documents\\MEGAsync\\Python_projects\\Pycharm-Projects-2\\flash-card-project-start\\images\\card_front.png\"))\n",
    "canvas.create_image(0, 0, anchor=NW, image=img2)\n",
    "\n",
    "current_img = img1\n",
    "\n",
    "def show_next_image():\n",
    "    global current_img\n",
    "    if current_img == img1:\n",
    "        canvas.itemconfig(img1, state=\"hidden\")\n",
    "        canvas.itemconfig(img2, state=\"normal\")\n",
    "        current_img = img2\n",
    "    else:\n",
    "        canvas.itemconfig(img2, state=\"hidden\")\n",
    "        canvas.itemconfig(img1, state=\"normal\")\n",
    "        current_img = img1\n",
    "\n",
    "canvas.tag_bind(current_img, '<Button-1>', show_next_image)\n",
    "\n",
    "root.mainloop()"
   ]
  },
  {
   "cell_type": "code",
   "execution_count": null,
   "outputs": [],
   "source": [],
   "metadata": {
    "collapsed": false
   }
  }
 ],
 "metadata": {
  "kernelspec": {
   "display_name": "Python 3",
   "language": "python",
   "name": "python3"
  },
  "language_info": {
   "codemirror_mode": {
    "name": "ipython",
    "version": 2
   },
   "file_extension": ".py",
   "mimetype": "text/x-python",
   "name": "python",
   "nbconvert_exporter": "python",
   "pygments_lexer": "ipython2",
   "version": "2.7.6"
  }
 },
 "nbformat": 4,
 "nbformat_minor": 0
}
